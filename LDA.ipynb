{
  "nbformat": 4,
  "nbformat_minor": 0,
  "metadata": {
    "colab": {
      "name": "LDA.ipynb",
      "provenance": [],
      "collapsed_sections": []
    },
    "kernelspec": {
      "name": "python3",
      "display_name": "Python 3"
    },
    "language_info": {
      "name": "python"
    }
  },
  "cells": [
    {
      "cell_type": "code",
      "execution_count": 164,
      "metadata": {
        "id": "JNT3pm0yDcDB"
      },
      "outputs": [],
      "source": [
        "from sklearn.datasets import load_iris\n",
        "import numpy as np\n",
        "import matplotlib.pyplot as plt\n",
        "import math"
      ]
    },
    {
      "cell_type": "code",
      "source": [
        "iris = load_iris()\n",
        "iris_X, iris_y = iris.data, iris.target\n",
        "n,d = iris_X.shape\n",
        "print(iris.target_names)\n",
        "print(iris.feature_names,iris_X.shape)"
      ],
      "metadata": {
        "colab": {
          "base_uri": "https://localhost:8080/"
        },
        "id": "-gPZA_pHDhzU",
        "outputId": "9733aaa0-7fb7-4c93-c26f-f200c7c896ed"
      },
      "execution_count": 165,
      "outputs": [
        {
          "output_type": "stream",
          "name": "stdout",
          "text": [
            "['setosa' 'versicolor' 'virginica']\n",
            "['sepal length (cm)', 'sepal width (cm)', 'petal length (cm)', 'petal width (cm)'] (150, 4)\n"
          ]
        }
      ]
    },
    {
      "cell_type": "code",
      "source": [
        "label_dict = {i: k for i, k in enumerate(iris.target_names)}\n",
        "feature_dict = {i:label for i,label in zip(\n",
        "                range(4),\n",
        "                  ('sepal length in cm',\n",
        "                  'sepal width in cm',\n",
        "                  'petal length in cm',\n",
        "                  'petal width in cm', ))}\n",
        "print(label_dict)\n",
        "print(feature_dict)"
      ],
      "metadata": {
        "colab": {
          "base_uri": "https://localhost:8080/"
        },
        "id": "s6mYt50xDxSV",
        "outputId": "49962cee-6d4c-4df7-d1bf-3aabbe292347"
      },
      "execution_count": 166,
      "outputs": [
        {
          "output_type": "stream",
          "name": "stdout",
          "text": [
            "{0: 'setosa', 1: 'versicolor', 2: 'virginica'}\n",
            "{0: 'sepal length in cm', 1: 'sepal width in cm', 2: 'petal length in cm', 3: 'petal width in cm'}\n"
          ]
        }
      ]
    },
    {
      "cell_type": "code",
      "source": [
        "fig, axes = plt.subplots(nrows=2, ncols=2, figsize=(12,6))\n",
        "\n",
        "for ax,cnt in zip(axes.ravel(), range(4)):  \n",
        "    # set bin sizes\n",
        "    min_b = math.floor(np.min(iris_X[:,cnt]))\n",
        "    max_b = math.ceil(np.max(iris_X[:,cnt]))\n",
        "    bins = np.linspace(min_b, max_b, 25)\n",
        "\n",
        "    # plottling the histograms\n",
        "    for lab,col in zip(range(0,3), ('blue', 'red', 'green')):\n",
        "        ax.hist(iris_X[iris_y==lab, cnt],\n",
        "                   color=col,\n",
        "                   label='class %s' %label_dict[lab],\n",
        "                   bins=bins,\n",
        "                   alpha=0.5,)\n",
        "    ylims = ax.get_ylim()\n",
        "\n",
        "    # plot annotation\n",
        "    leg = ax.legend(loc='upper right', fancybox=True, fontsize=8)\n",
        "    leg.get_frame().set_alpha(0.5)\n",
        "    ax.set_ylim([0, max(ylims)+2])\n",
        "    ax.set_xlabel(feature_dict[cnt])\n",
        "    ax.set_title('Iris histogram #%s' %str(cnt+1))\n",
        "\n",
        "    # hide axis ticks\n",
        "    ax.tick_params(axis=\"both\", which=\"both\", bottom=\"off\", top=\"off\",  \n",
        "            labelbottom=\"on\", left=\"off\", right=\"off\", labelleft=\"on\")\n",
        "\n",
        "    # remove axis spines\n",
        "    ax.spines[\"top\"].set_visible(False)  \n",
        "    ax.spines[\"right\"].set_visible(False)\n",
        "    ax.spines[\"bottom\"].set_visible(False)\n",
        "    ax.spines[\"left\"].set_visible(False)    \n",
        "\n",
        "axes[0][0].set_ylabel('count')\n",
        "axes[1][0].set_ylabel('count')\n",
        "\n",
        "fig.tight_layout()       \n",
        "\n",
        "plt.show()"
      ],
      "metadata": {
        "colab": {
          "base_uri": "https://localhost:8080/",
          "height": 441
        },
        "id": "yQ_p3X3hEW7r",
        "outputId": "8490e989-3f69-4213-cb6b-bf298e6c63c4"
      },
      "execution_count": 167,
      "outputs": [
        {
          "output_type": "display_data",
          "data": {
            "text/plain": [
              "<Figure size 864x432 with 4 Axes>"
            ],
            "image/png": "[encoded data removed]"
          },
          "metadata": {
            "needs_background": "light"
          }
        }
      ]
    },
    {
      "cell_type": "code",
      "source": [
        "# Step 1:\n",
        "mean_vectors = []  # mean vector of each class\n",
        "for cl in [0, 1, 2]:\n",
        "  class_mean_vector = np.mean(iris_X[iris_y==cl], axis=0)\n",
        "  mean_vectors.append(class_mean_vector)\n",
        "  print(label_dict[cl], class_mean_vector)"
      ],
      "metadata": {
        "colab": {
          "base_uri": "https://localhost:8080/"
        },
        "id": "sG5w0RgxI0Z7",
        "outputId": "5b20f594-597c-404c-b8c5-8f4389ed7c80"
      },
      "execution_count": 168,
      "outputs": [
        {
          "output_type": "stream",
          "name": "stdout",
          "text": [
            "setosa [5.006 3.428 1.462 0.246]\n",
            "versicolor [5.936 2.77  4.26  1.326]\n",
            "virginica [6.588 2.974 5.552 2.026]\n"
          ]
        }
      ]
    },
    {
      "cell_type": "code",
      "source": [
        "# Step 2:\n",
        "S_W = np.zeros((d,d))\n",
        "for cl,mv in zip([0, 1, 2], mean_vectors):   # each class \n",
        "  tmp = iris_X[iris_y == cl] - mv\n",
        "  class_scatter_mat = np.dot(tmp.T,tmp)# scatter matrix\n",
        "  S_W += class_scatter_mat\n",
        "\n",
        "print(\"S_Within Classes: \\n\",S_W,\"\\n\")\n",
        "\n",
        "overall_mean = np.mean(iris_X, axis=0)  # mean vector of each feature in whole dataset \n",
        "print(\"Overal mean of each feature: \",overall_mean,\"\\n\")\n",
        "\n",
        "S_B = np.zeros((d,d)) # \n",
        "for i,mean_vec in enumerate(mean_vectors):\n",
        "  n_prime = iris_X[iris_y==i,:].shape[0]  # number of samples corresponding to class ith\n",
        "  tmp = np.transpose(mean_vec - overall_mean).reshape(d,1)   # size d*1\n",
        "  S_B += n_prime * np.dot(tmp,tmp.T)\n",
        "\n",
        "print(\"S_Between Classes: \\n\",S_B)"
      ],
      "metadata": {
        "colab": {
          "base_uri": "https://localhost:8080/"
        },
        "id": "YL6metj-NKQv",
        "outputId": "a79f9e6c-acbc-40bd-8b1e-d8b26664ee00"
      },
      "execution_count": 169,
      "outputs": [
        {
          "output_type": "stream",
          "name": "stdout",
          "text": [
            "S_Within Classes: \n",
            " [[38.9562 13.63   24.6246  5.645 ]\n",
            " [13.63   16.962   8.1208  4.8084]\n",
            " [24.6246  8.1208 27.2226  6.2718]\n",
            " [ 5.645   4.8084  6.2718  6.1566]] \n",
            "\n",
            "Overal mean of each feature:  [5.84333333 3.05733333 3.758      1.19933333] \n",
            "\n",
            "S_Between Classes: \n",
            " [[ 63.21213333 -19.95266667 165.2484      71.27933333]\n",
            " [-19.95266667  11.34493333 -57.2396     -22.93266667]\n",
            " [165.2484     -57.2396     437.1028     186.774     ]\n",
            " [ 71.27933333 -22.93266667 186.774       80.41333333]]\n"
          ]
        }
      ]
    },
    {
      "cell_type": "code",
      "source": [
        "# Step 3:\n",
        "matrixA = np.dot(np.linalg.inv(S_W), S_B)    # inverse S_W * S_B\n",
        "eig_vals, eig_vecs = np.linalg.eig(matrixA) # lamda 1> lambda 2 > .. lambda n\n",
        "eig_vecs = eig_vecs.transpose() \n",
        "\n",
        "for i in range(len(eig_vals)):\n",
        "  print('eigenvalue  ',i+1,': ',eig_vals[i])\n",
        "  print('eigenvector ',i+1,': ',eig_vecs[i],'\\n')"
      ],
      "metadata": {
        "colab": {
          "base_uri": "https://localhost:8080/"
        },
        "id": "yPOwI8AySEgL",
        "outputId": "f6453f57-3076-4aa1-ddcf-c94a340da6d3"
      },
      "execution_count": 170,
      "outputs": [
        {
          "output_type": "stream",
          "name": "stdout",
          "text": [
            "eigenvalue   1 :  32.191929198278025\n",
            "eigenvector  1 :  [-0.20874182 -0.38620369  0.55401172  0.7073504 ] \n",
            "\n",
            "eigenvalue   2 :  0.28539104262306975\n",
            "eigenvector  2 :  [-0.00653196 -0.58661055  0.25256154 -0.76945309] \n",
            "\n",
            "eigenvalue   3 :  -1.6067824368826592e-15\n",
            "eigenvector  3 :  [ 0.87924206 -0.32816889 -0.31374947 -0.1442215 ] \n",
            "\n",
            "eigenvalue   4 :  -9.195837483528325e-15\n",
            "eigenvector  4 :  [ 0.15169622  0.28172319  0.35490222 -0.87844448] \n",
            "\n"
          ]
        }
      ]
    },
    {
      "cell_type": "code",
      "source": [
        "# Step 4:\n",
        "ratio = eig_vals/eig_vals.sum()\n",
        "print((ratio*100))\n",
        "# Scree Plot\n",
        "plt.plot(np.cumsum(ratio)) # cumulative sum\n",
        "plt.title('Scree Plot')\n",
        "plt.xlabel('Principal Component (k)')\n",
        "plt.ylabel('% of Total Variance  <= k')"
      ],
      "metadata": {
        "colab": {
          "base_uri": "https://localhost:8080/",
          "height": 330
        },
        "id": "7NVTpjKmYo33",
        "outputId": "875fb427-83cc-4667-f941-2e4c576d7144"
      },
      "execution_count": 171,
      "outputs": [
        {
          "output_type": "stream",
          "name": "stdout",
          "text": [
            "[ 9.91212605e+01  8.78739503e-01 -4.94739845e-15 -2.83146436e-14]\n"
          ]
        },
        {
          "output_type": "execute_result",
          "data": {
            "text/plain": [
              "Text(0, 0.5, '% of Total Variance  <= k')"
            ]
          },
          "metadata": {},
          "execution_count": 171
        },
        {
          "output_type": "display_data",
          "data": {
            "text/plain": [
              "<Figure size 432x288 with 1 Axes>"
            ],
            "image/png": "[encoded data removed]"
          },
          "metadata": {
            "needs_background": "light"
          }
        }
      ]
    },
    {
      "cell_type": "code",
      "source": [
        "# Step 5: \n",
        "k=2   # keep k eigenvectors\n",
        "k_eigen_vector = eig_vecs[:k]\n",
        "k_eigen_vector"
      ],
      "metadata": {
        "colab": {
          "base_uri": "https://localhost:8080/"
        },
        "id": "fn2z0z8TYxti",
        "outputId": "9a99bdec-9fef-42e1-f2a8-1bd3b8b9cb89"
      },
      "execution_count": 172,
      "outputs": [
        {
          "output_type": "execute_result",
          "data": {
            "text/plain": [
              "array([[-0.20874182, -0.38620369,  0.55401172,  0.7073504 ],\n",
              "       [-0.00653196, -0.58661055,  0.25256154, -0.76945309]])"
            ]
          },
          "metadata": {},
          "execution_count": 172
        }
      ]
    },
    {
      "cell_type": "code",
      "source": [
        "# Step 6: Transformation\n",
        "new_X = np.dot(iris_X, k_eigen_vector.T)\n",
        "print(\"first 5 rows of new dataset after applying LDA: \" ,new_X[:5,] )"
      ],
      "metadata": {
        "colab": {
          "base_uri": "https://localhost:8080/"
        },
        "id": "8NJ1wtOcZGEt",
        "outputId": "e8f3a913-ee78-4805-834f-f1cd49d2d955"
      },
      "execution_count": 173,
      "outputs": [
        {
          "output_type": "stream",
          "name": "stdout",
          "text": [
            "first 5 rows of new dataset after applying LDA:  [[-1.49920971 -1.88675441]\n",
            " [-1.2643595  -1.59214275]\n",
            " [-1.35525305 -1.73341462]\n",
            " [-1.18495616 -1.62358806]\n",
            " [-1.5169559  -1.94476227]]\n"
          ]
        }
      ]
    },
    {
      "cell_type": "code",
      "source": [
        "### using sklearn ### \n",
        "from sklearn.discriminant_analysis import LinearDiscriminantAnalysis\n",
        "lda = LinearDiscriminantAnalysis(n_components=k) # k= 2\n",
        "lda.fit(iris_X,iris_y)\n",
        "print(lda.explained_variance_ratio_*100)\n",
        "print(lda.scalings_)"
      ],
      "metadata": {
        "colab": {
          "base_uri": "https://localhost:8080/"
        },
        "id": "K673iQzJZfAl",
        "outputId": "b69f0ead-e212-4b6b-8342-9ecab7b375bc"
      },
      "execution_count": 182,
      "outputs": [
        {
          "output_type": "stream",
          "name": "stdout",
          "text": [
            "[99.1212605  0.8787395]\n",
            "[[ 0.82937764  0.02410215]\n",
            " [ 1.53447307  2.16452123]\n",
            " [-2.20121166 -0.93192121]\n",
            " [-2.81046031  2.83918785]]\n"
          ]
        }
      ]
    }
  ]
}