{
  "nbformat": 4,
  "nbformat_minor": 0,
  "metadata": {
    "colab": {
      "name": "PCA .ipynb",
      "provenance": [],
      "collapsed_sections": []
    },
    "kernelspec": {
      "name": "python3",
      "display_name": "Python 3"
    },
    "language_info": {
      "name": "python"
    }
  },
  "cells": [
    {
      "cell_type": "code",
      "execution_count": 31,
      "metadata": {
        "id": "o0QeF9fti354"
      },
      "outputs": [],
      "source": [
        "from sklearn.datasets import load_iris\n",
        "import numpy as np\n",
        "import matplotlib.pyplot as plt"
      ]
    },
    {
      "cell_type": "code",
      "source": [
        "iris = load_iris()\n",
        "iris_X, iris_y = iris.data, iris.target\n",
        "print(iris.target_names)\n",
        "print(iris.feature_names)"
      ],
      "metadata": {
        "colab": {
          "base_uri": "https://localhost:8080/"
        },
        "id": "tWI7deKTjAL_",
        "outputId": "1f861883-ca89-42cf-875c-de5fa629b16d"
      },
      "execution_count": 32,
      "outputs": [
        {
          "output_type": "stream",
          "name": "stdout",
          "text": [
            "['setosa' 'versicolor' 'virginica']\n",
            "['sepal length (cm)', 'sepal width (cm)', 'petal length (cm)', 'petal width (cm)']\n"
          ]
        }
      ]
    },
    {
      "cell_type": "code",
      "source": [
        "label_dict = {i: k for i, k in enumerate(iris.target_names)}\n",
        "label_dict"
      ],
      "metadata": {
        "colab": {
          "base_uri": "https://localhost:8080/"
        },
        "id": "9CiVfrbej0b9",
        "outputId": "ab9fff5f-cb62-4acf-d5d5-8ad82641f7bb"
      },
      "execution_count": 33,
      "outputs": [
        {
          "output_type": "execute_result",
          "data": {
            "text/plain": [
              "{0: 'setosa', 1: 'versicolor', 2: 'virginica'}"
            ]
          },
          "metadata": {},
          "execution_count": 33
        }
      ]
    },
    {
      "cell_type": "code",
      "source": [
        "def plot(X, y, title, x_label, y_label):\n",
        "  ax = plt.subplot(111)\n",
        "  for label,marker,color in zip(range(3),('^', 's', 'o'),('blue', 'red', 'green')):\n",
        "    plt.scatter(x=X[:,0].real[y == label],\n",
        "      y=X[:,1].real[y == label],\n",
        "      color=color,\n",
        "      alpha=0.5,\n",
        "      label=label_dict[label]\n",
        "    ) \n",
        "    plt.xlabel(x_label)\n",
        "    plt.ylabel(y_label)\n",
        "    leg = plt.legend(loc='upper right', fancybox=True)\n",
        "    leg.get_frame().set_alpha(0.5)\n",
        "    plt.title(title)\n",
        "    \n",
        "plot(iris_X, iris_y, \"Original Iris Data\", \"sepal length (cm)\", \"sepalwidth (cm)\")"
      ],
      "metadata": {
        "colab": {
          "base_uri": "https://localhost:8080/",
          "height": 295
        },
        "id": "r8s1VYhcjH2L",
        "outputId": "9a66b2d3-480d-4c9f-f069-232727856842"
      },
      "execution_count": 34,
      "outputs": [
        {
          "output_type": "display_data",
          "data": {
            "text/plain": [
              "<Figure size 432x288 with 1 Axes>"
            ],
            "image/png": "[encoded data removed]"
          },
          "metadata": {
            "needs_background": "light"
          }
        }
      ]
    },
    {
      "cell_type": "code",
      "source": [
        "# Step 1: \n",
        "mean_vector = iris_X.mean(axis=0)\n",
        "print(\"Mean of each feature: \")\n",
        "print(mean_vector,'\\n')\n",
        "\n",
        "# Step 2: \n",
        "print(\"Covariance matrix: \")\n",
        "cov_mat = np.cov((iris_X-mean_vector).T)\n",
        "print(cov_mat)"
      ],
      "metadata": {
        "colab": {
          "base_uri": "https://localhost:8080/"
        },
        "id": "6mOi2r1-kJv1",
        "outputId": "0f0cf274-c90f-4a3f-deef-1d6c2f909ddd"
      },
      "execution_count": 35,
      "outputs": [
        {
          "output_type": "stream",
          "name": "stdout",
          "text": [
            "Mean of each feature: \n",
            "[5.84333333 3.05733333 3.758      1.19933333] \n",
            "\n",
            "Covariance matrix: \n",
            "[[ 0.68569351 -0.042434    1.27431544  0.51627069]\n",
            " [-0.042434    0.18997942 -0.32965638 -0.12163937]\n",
            " [ 1.27431544 -0.32965638  3.11627785  1.2956094 ]\n",
            " [ 0.51627069 -0.12163937  1.2956094   0.58100626]]\n"
          ]
        }
      ]
    },
    {
      "cell_type": "code",
      "source": [
        "# Step 3:\n",
        "eig_vals, eig_vecs = np.linalg.eig(cov_mat) # lamda 1> lambda 2 > .. lambda n\n",
        "eig_vecs = eig_vecs.transpose() \n",
        "for i in range(len(eig_vals)):\n",
        "  print('eigenvalue ',i+1,': ',eig_vals[i])\n",
        "  print('eigenvector ',i+1,': ',eig_vecs[i],'\\n')"
      ],
      "metadata": {
        "colab": {
          "base_uri": "https://localhost:8080/"
        },
        "id": "QDhmRNgAkxzY",
        "outputId": "479fe51e-8c52-4bea-ab7d-6b88a0ad3302"
      },
      "execution_count": 36,
      "outputs": [
        {
          "output_type": "stream",
          "name": "stdout",
          "text": [
            "eigenvalue  1 :  4.228241706034867\n",
            "eigenvector  1 :  [ 0.36138659 -0.08452251  0.85667061  0.3582892 ] \n",
            "\n",
            "eigenvalue  2 :  0.24267074792863336\n",
            "eigenvector  2 :  [-0.65658877 -0.73016143  0.17337266  0.07548102] \n",
            "\n",
            "eigenvalue  3 :  0.07820950004291945\n",
            "eigenvector  3 :  [-0.58202985  0.59791083  0.07623608  0.54583143] \n",
            "\n",
            "eigenvalue  4 :  0.023835092973449823\n",
            "eigenvector  4 :  [ 0.31548719 -0.3197231  -0.47983899  0.75365743] \n",
            "\n"
          ]
        }
      ]
    },
    {
      "cell_type": "code",
      "source": [
        "# Step 4:\n",
        "variance_ratio = eig_vals/eig_vals.sum()\n",
        "print(variance_ratio)\n",
        "# Scree Plot\n",
        "plt.plot(np.cumsum(variance_ratio)) # cumulative sum\n",
        "plt.title('Scree Plot')\n",
        "plt.xlabel('Principal Component (k)')\n",
        "plt.ylabel('% of Total Variance  <= k')"
      ],
      "metadata": {
        "colab": {
          "base_uri": "https://localhost:8080/",
          "height": 330
        },
        "id": "8ET7F6w7lMe5",
        "outputId": "af62a238-0e10-45c5-f74b-58ff00ac9591"
      },
      "execution_count": 37,
      "outputs": [
        {
          "output_type": "stream",
          "name": "stdout",
          "text": [
            "[0.92461872 0.05306648 0.01710261 0.00521218]\n"
          ]
        },
        {
          "output_type": "execute_result",
          "data": {
            "text/plain": [
              "Text(0, 0.5, '% of Total Variance  <= k')"
            ]
          },
          "metadata": {},
          "execution_count": 37
        },
        {
          "output_type": "display_data",
          "data": {
            "text/plain": [
              "<Figure size 432x288 with 1 Axes>"
            ],
            "image/png": "[encoded data removed]"
          },
          "metadata": {
            "needs_background": "light"
          }
        }
      ]
    },
    {
      "cell_type": "code",
      "source": [
        "# Step 5:\n",
        "k=2\n",
        "k_eigen_vector = eig_vecs[:k]\n",
        "k_eigen_vector"
      ],
      "metadata": {
        "colab": {
          "base_uri": "https://localhost:8080/"
        },
        "id": "djEquia-nX-b",
        "outputId": "c55edd7f-b068-4c24-e8f0-9baec943f7c7"
      },
      "execution_count": 38,
      "outputs": [
        {
          "output_type": "execute_result",
          "data": {
            "text/plain": [
              "array([[ 0.36138659, -0.08452251,  0.85667061,  0.3582892 ],\n",
              "       [-0.65658877, -0.73016143,  0.17337266,  0.07548102]])"
            ]
          },
          "metadata": {},
          "execution_count": 38
        }
      ]
    },
    {
      "cell_type": "code",
      "source": [
        "# Step 6: Transformation\n",
        "new_X = np.dot(iris_X, k_eigen_vector.T)\n",
        "print(\"first 5 rows of new dataset after applying PCA: \" ,new_X[:5,] )"
      ],
      "metadata": {
        "colab": {
          "base_uri": "https://localhost:8080/"
        },
        "id": "-cwipyElnuWo",
        "outputId": "a205b6ff-0225-42aa-8d57-d71f69d3adeb"
      },
      "execution_count": 39,
      "outputs": [
        {
          "output_type": "stream",
          "name": "stdout",
          "text": [
            "first 5 rows of new dataset after applying PCA:  [[ 2.81823951 -5.64634982]\n",
            " [ 2.78822345 -5.14995135]\n",
            " [ 2.61337456 -5.18200315]\n",
            " [ 2.75702228 -5.0086536 ]\n",
            " [ 2.7736486  -5.65370709]]\n"
          ]
        }
      ]
    },
    {
      "cell_type": "code",
      "source": [
        "### using sklearn ### \n",
        "from sklearn.decomposition import PCA\n",
        "pca = PCA(n_components=2) # k = 2\n",
        "pca.fit(iris_X)\n",
        "print(pca.singular_values_)\n",
        "print(pca.explained_variance_ratio_)"
      ],
      "metadata": {
        "colab": {
          "base_uri": "https://localhost:8080/"
        },
        "id": "8nM4hBl7ogRx",
        "outputId": "2606c7e7-0d10-4559-87ce-a1ab79bc8546"
      },
      "execution_count": 40,
      "outputs": [
        {
          "output_type": "stream",
          "name": "stdout",
          "text": [
            "[25.09996044  6.01314738]\n",
            "[0.92461872 0.05306648]\n"
          ]
        }
      ]
    }
  ]
}