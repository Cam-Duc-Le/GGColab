{
  "nbformat": 4,
  "nbformat_minor": 0,
  "metadata": {
    "colab": {
      "name": "K-nearest neighbors.ipynb",
      "provenance": [],
      "collapsed_sections": []
    },
    "kernelspec": {
      "name": "python3",
      "display_name": "Python 3"
    },
    "language_info": {
      "name": "python"
    }
  },
  "cells": [
    {
      "cell_type": "code",
      "execution_count": 44,
      "metadata": {
        "id": "B-h8SsiQ98Yn"
      },
      "outputs": [],
      "source": [
        "from collections import Counter\n",
        "import numpy as np\n",
        "from sklearn import datasets,neighbors\n",
        "from sklearn.model_selection import train_test_split\n",
        "from sklearn.metrics import accuracy_score"
      ]
    },
    {
      "cell_type": "code",
      "source": [
        "data = datasets.load_iris()\n",
        "\n",
        "X = np.array(data[\"data\"])\n",
        "y = np.array(data[\"target\"])\n",
        "classes = data[\"target_names\"]\n",
        "\n",
        "print(X[:10])\n",
        "print(np.unique(y),classes)\n",
        "print(y[:10])"
      ],
      "metadata": {
        "colab": {
          "base_uri": "https://localhost:8080/"
        },
        "id": "9Va7m-ID-Bft",
        "outputId": "2a5f3d87-9981-4919-c3d6-f3a25eea7d18"
      },
      "execution_count": 45,
      "outputs": [
        {
          "output_type": "stream",
          "name": "stdout",
          "text": [
            "[[5.1 3.5 1.4 0.2]\n",
            " [4.9 3.  1.4 0.2]\n",
            " [4.7 3.2 1.3 0.2]\n",
            " [4.6 3.1 1.5 0.2]\n",
            " [5.  3.6 1.4 0.2]\n",
            " [5.4 3.9 1.7 0.4]\n",
            " [4.6 3.4 1.4 0.3]\n",
            " [5.  3.4 1.5 0.2]\n",
            " [4.4 2.9 1.4 0.2]\n",
            " [4.9 3.1 1.5 0.1]]\n",
            "[0 1 2] ['setosa' 'versicolor' 'virginica']\n",
            "[0 0 0 0 0 0 0 0 0 0]\n"
          ]
        }
      ]
    },
    {
      "cell_type": "code",
      "source": [
        "X_train, X_test, y_train, y_test = train_test_split(X, y)\n",
        "data_train = zip(X_train, y_train)\n",
        "data_train"
      ],
      "metadata": {
        "colab": {
          "base_uri": "https://localhost:8080/"
        },
        "id": "QFwyheBp_tG-",
        "outputId": "9f661ddf-6de5-4187-9ea2-d54cbbc8050a"
      },
      "execution_count": 46,
      "outputs": [
        {
          "output_type": "execute_result",
          "data": {
            "text/plain": [
              "<zip at 0x7effc349c460>"
            ]
          },
          "metadata": {},
          "execution_count": 46
        }
      ]
    },
    {
      "cell_type": "code",
      "source": [
        "def euclidean_distance(a, b):\n",
        "    return np.linalg.norm(np.array(a) - np.array(b))\n",
        "\n",
        "def classifier(data_train, classes, point, k=3):  \n",
        "    # distance list\n",
        "    distances = []\n",
        "    for data_point in data_train:\n",
        "        distance = euclidean_distance(data_point[0], point)   # distances from input-points to other points in training set\n",
        "        distances.append((distance, data_point[1]))           # label of data-point\n",
        "    \n",
        "    distances = sorted(distances)[:k]     # Choosing 'k' points with the least distances.\n",
        "    votes = [i[1] for i in distances]\n",
        "    print(distances)\n",
        "    print(votes)\n",
        "    # Most commonly occurring class is the classification ouput\n",
        "    result = Counter(votes).most_common(1)[0][0]\n",
        "    return classes[result]\n",
        "  \n"
      ],
      "metadata": {
        "id": "ZD4VGAy4-NCH"
      },
      "execution_count": 47,
      "outputs": []
    },
    {
      "cell_type": "code",
      "source": [
        "print(\"output: \",classifier(data_train, classes, [4.4, 3.1, 1.3, 1.4]))"
      ],
      "metadata": {
        "colab": {
          "base_uri": "https://localhost:8080/"
        },
        "id": "pHqQo-rf_kkD",
        "outputId": "7df3763a-7a10-4ab1-c40b-ddd8e5cd543e"
      },
      "execution_count": 48,
      "outputs": [
        {
          "output_type": "stream",
          "name": "stdout",
          "text": [
            "[(1.1180339887498947, 0), (1.1618950038622249, 0), (1.1789826122551592, 0)]\n",
            "[0, 0, 0]\n",
            "output:  setosa\n"
          ]
        }
      ]
    },
    {
      "cell_type": "code",
      "source": [
        "    ### Use SK-learn ###\n",
        "\n",
        "clf = neighbors.KNeighborsClassifier(n_neighbors = 10, p = 2, weights = 'distance')  # 10 neighbors and norm 2\n",
        "clf.fit(X_train, y_train)\n",
        "y_pred = clf.predict(X_test)\n",
        "print(\"Accuracy of KNN with 10 neighbors and major voting:\" ,accuracy_score(y_test, y_pred))\n",
        "\n",
        "output = clf.predict([[4.4, 3.1, 1.3, 1.4]])\n",
        "print(\"output for above example: \", output, \" => \", classes[output])"
      ],
      "metadata": {
        "colab": {
          "base_uri": "https://localhost:8080/"
        },
        "id": "-cBRdTFSCUM4",
        "outputId": "b4025b54-774d-4e29-d80d-c2a8fd44f991"
      },
      "execution_count": 62,
      "outputs": [
        {
          "output_type": "stream",
          "name": "stdout",
          "text": [
            "Accuracy of KNN with 10 neighbors and major voting: 1.0\n",
            "output for above example:  [0]  =>  ['setosa']\n"
          ]
        }
      ]
    }
  ]
}